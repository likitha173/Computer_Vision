{
 "cells": [
  {
   "cell_type": "markdown",
   "metadata": {},
   "source": [
    "# image processing with open cv"
   ]
  },
  {
   "cell_type": "code",
   "execution_count": 2,
   "metadata": {},
   "outputs": [],
   "source": [
    "## conver color image to gray scale\n",
    "import cv2\n",
    "src='apple.jpg'\n",
    "input_image=cv2.imread(src)\n",
    "cv2.imshow('original image',input_image)\n",
    "cv2.waitKey(0)\n",
    "cv2.destroyAllWindows()\n",
    "if input_image is None:\n",
    "    print('Could not  open iamge:',input_image)\n",
    "    exit(0)\n",
    "## grayscale version of the input\n",
    "gray=cv2.cvtColor(input_image,cv2.COLOR_BGR2GRAY)\n",
    "\n",
    "## DISPLAY GRAYSCALE VERSION\n",
    "cv2.imshow('grayscale image',gray)\n",
    "cv2.waitKey(0)\n",
    "cv2.destroyAllWindows()"
   ]
  },
  {
   "cell_type": "code",
   "execution_count": 5,
   "metadata": {},
   "outputs": [],
   "source": [
    "import numpy as np\n",
    "import cv2\n",
    "\n",
    "# Load your input_image using cv2.imread() here\n",
    "\n",
    "# we create a dummy 3d array\n",
    "blue_channel = np.zeros(input_image.shape, input_image.dtype)\n",
    "green_channel = np.zeros(input_image.shape, input_image.dtype)\n",
    "red_channel = np.zeros(input_image.shape, input_image.dtype)\n",
    "\n",
    "# we match each color channel to a 3d dimension\n",
    "# Blue rendering: [blue;0;0]\n",
    "# Green rendering: [0;green;0]\n",
    "# Red rendering: [0;0;red]\n",
    "cv2.mixChannels([input_image], [blue_channel], [0, 0])\n",
    "cv2.mixChannels([input_image], [green_channel], [1, 1])\n",
    "cv2.mixChannels([input_image], [red_channel], [2, 2])\n",
    "\n",
    "# Display the three obtained images\n",
    "cv2.imshow('blue channel', blue_channel)\n",
    "cv2.waitKey(0)\n",
    "cv2.imshow('green channel', green_channel)\n",
    "cv2.waitKey(0)\n",
    "cv2.imshow('red channel', red_channel)\n",
    "cv2.waitKey(0)\n",
    "cv2.destroyAllWindows()\n"
   ]
  },
  {
   "cell_type": "markdown",
   "metadata": {},
   "source": [
    "### blur image"
   ]
  },
  {
   "cell_type": "code",
   "execution_count": null,
   "metadata": {},
   "outputs": [],
   "source": [
    "#bluring the image\n",
    "import cv2\n",
    "img=cv2.imread('apple.jpg')\n",
    "cv2.imshow('original image',img)\n",
    "cv2.waitKey(0)\n",
    "cv2.destroyAllWindows()\n",
    "blur_image=cv2.medianBlur(img,13)\n",
    "cv2.imshow('blur image',blur_image)\n",
    "cv2.waitKey(0)\n",
    "cv2.destroyAllWindows()"
   ]
  }
 ],
 "metadata": {
  "kernelspec": {
   "display_name": "Python 3",
   "language": "python",
   "name": "python3"
  },
  "language_info": {
   "codemirror_mode": {
    "name": "ipython",
    "version": 3
   },
   "file_extension": ".py",
   "mimetype": "text/x-python",
   "name": "python",
   "nbconvert_exporter": "python",
   "pygments_lexer": "ipython3",
   "version": "3.11.0"
  },
  "orig_nbformat": 4
 },
 "nbformat": 4,
 "nbformat_minor": 2
}
